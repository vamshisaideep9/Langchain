{
 "cells": [
  {
   "cell_type": "code",
   "execution_count": 1,
   "metadata": {},
   "outputs": [],
   "source": [
    "from langchain_community.document_loaders import PyPDFLoader, PyPDFDirectoryLoader\n",
    "from langchain.text_splitter import RecursiveCharacterTextSplitter\n",
    "from langchain_community.vectorstores import FAISS\n",
    "from langchain_community.embeddings import HuggingFaceBgeEmbeddings\n",
    "from langchain.prompts import PromptTemplate\n",
    "from langchain.chains import RetrievalQA\n"
   ]
  },
  {
   "cell_type": "code",
   "execution_count": 2,
   "metadata": {},
   "outputs": [
    {
     "data": {
      "text/plain": [
       "Document(metadata={'producer': 'Adobe PDF Library 17.0', 'creator': 'Adobe InDesign 18.2 (Windows)', 'creationdate': '2023-09-09T07:52:17-04:00', 'author': 'U.S. Census Bureau', 'keywords': 'acsbr-015', 'moddate': '2023-09-12T14:44:47+01:00', 'title': 'Health Insurance Coverage Status and Type by Geography: 2021 and 2022', 'trapped': '/false', 'source': 'c:\\\\Users\\\\vamsh\\\\OneDrive\\\\Desktop\\\\Langchain\\\\Langchain\\\\huggingface\\\\us_census\\\\acsbr-015.pdf', 'total_pages': 18, 'page': 0, 'page_label': '1'}, page_content='Health Insurance Coverage Status and Type \\nby Geography: 2021 and 2022\\nAmerican Community Survey Briefs\\nACSBR-015\\nIssued September 2023\\nDouglas Conway and Breauna Branch\\nINTRODUCTION\\nDemographic shifts as well as economic and govern-\\nment policy changes can affect people’s access to \\nhealth coverage. For example, between 2021 and 2022, \\nthe labor market continued to improve, which may \\nhave affected private coverage in the United States \\nduring that time.1 Public policy changes included \\nthe renewal of the Public Health Emergency, which \\nallowed Medicaid enrollees to remain covered under \\nthe Continuous Enrollment Provision.2 The American \\nRescue Plan (ARP) enhanced Marketplace premium \\nsubsidies for those with incomes above 400 percent \\nof the poverty level as well as for unemployed people.3\\nIn addition to national policies, individual states and \\nthe District of Columbia can affect health insurance \\ncoverage by making Marketplace or Medicaid more')"
      ]
     },
     "execution_count": 2,
     "metadata": {},
     "output_type": "execute_result"
    }
   ],
   "source": [
    "#Read pdfs from the folder\n",
    "\n",
    "loader = PyPDFDirectoryLoader(\"c:/Users/vamsh/OneDrive/Desktop/Langchain/Langchain/huggingface/us_census\")\n",
    "documents = loader.load()\n",
    "text_splitter = RecursiveCharacterTextSplitter(chunk_size=1000, chunk_overlap=200)\n",
    "final_documents = text_splitter.split_documents(documents)\n",
    "final_documents[0]"
   ]
  },
  {
   "cell_type": "code",
   "execution_count": 3,
   "metadata": {},
   "outputs": [
    {
     "data": {
      "text/plain": [
       "316"
      ]
     },
     "execution_count": 3,
     "metadata": {},
     "output_type": "execute_result"
    }
   ],
   "source": [
    "len(final_documents)"
   ]
  },
  {
   "cell_type": "code",
   "execution_count": 11,
   "metadata": {},
   "outputs": [],
   "source": [
    "## Embedding using hUggingFace\n",
    "\n",
    "huggingface_embeddings = HuggingFaceBgeEmbeddings(\n",
    "    model_name = \"sentence-transformers/all-MiniLM-L6-v2\",\n",
    "    model_kwargs={'device': 'cpu'}\n",
    ")"
   ]
  },
  {
   "cell_type": "code",
   "execution_count": 12,
   "metadata": {},
   "outputs": [
    {
     "data": {
      "text/plain": [
       "array([-2.49750037e-02,  7.48803746e-03,  6.07665442e-02,  2.87433956e-02,\n",
       "        7.38343671e-02,  1.22540459e-01, -1.49952834e-02, -7.34637398e-03,\n",
       "       -1.00141063e-01, -1.65566173e-03, -1.06491204e-02,  9.63608548e-02,\n",
       "       -2.55548172e-02, -1.02058493e-01,  1.60375722e-02,  1.36243366e-02,\n",
       "        1.47681190e-02, -3.22496593e-02, -2.84116454e-02,  8.82342458e-02,\n",
       "       -3.01534869e-02,  2.01462917e-02, -5.24294749e-02, -3.65702435e-03,\n",
       "        1.23102581e-02,  5.61478641e-03,  4.09074202e-02, -1.13199349e-03,\n",
       "       -9.47215408e-03,  6.47103265e-02,  8.98134559e-02, -5.35427313e-03,\n",
       "        2.55072191e-02,  1.17485765e-02,  2.94315796e-02, -4.34861965e-02,\n",
       "       -3.71153727e-02,  2.39203274e-02, -9.60926637e-02,  1.52798379e-02,\n",
       "       -3.21496390e-02, -4.64301072e-02, -8.10123980e-02,  1.04659721e-01,\n",
       "        2.16492992e-02, -1.19760667e-03, -4.37057056e-02,  8.71711299e-02,\n",
       "       -1.37320897e-02,  5.47637120e-02,  7.84206903e-04,  3.08593363e-02,\n",
       "        3.65715213e-02,  1.41634382e-02,  1.16748437e-02, -3.02507430e-02,\n",
       "       -3.20118554e-02, -2.99772453e-02, -2.04795487e-02, -1.95125630e-03,\n",
       "       -1.50643243e-02, -2.05804352e-02,  1.52343642e-02,  3.89632434e-02,\n",
       "       -5.46765588e-02,  4.73911129e-02,  1.70816947e-03, -1.46486219e-02,\n",
       "        3.11813895e-02, -3.83572504e-02, -4.91326079e-02, -2.09214035e-02,\n",
       "       -2.54122540e-02, -7.96687976e-03,  8.35762620e-02, -7.59059610e-03,\n",
       "        3.69130671e-02,  4.13235202e-02,  1.19046256e-01, -3.27458829e-02,\n",
       "        1.48656555e-02, -6.54279515e-02, -1.05254352e-02,  3.96321155e-02,\n",
       "       -5.40454537e-02,  1.00387353e-02, -4.64251302e-02, -5.11061959e-02,\n",
       "        9.88636445e-03, -1.18499473e-01,  7.05945641e-02,  1.54744713e-02,\n",
       "        8.27156380e-03,  1.31366579e-02,  1.19081903e-02, -2.07044799e-02,\n",
       "       -1.69925131e-02, -6.02725111e-02, -2.08243653e-02,  5.53831784e-03,\n",
       "       -2.71231099e-03, -6.91383928e-02,  2.01455131e-02, -3.06655746e-03,\n",
       "       -4.13903631e-02, -1.07717782e-01,  1.33660249e-02, -1.57036819e-02,\n",
       "        3.23978742e-03,  6.58045039e-02,  5.30168265e-02, -2.36005690e-02,\n",
       "        1.92057770e-02,  5.99617045e-03, -2.53139576e-03, -4.61636670e-02,\n",
       "       -1.90664607e-03, -4.01330628e-02,  3.05308104e-02,  1.72474533e-02,\n",
       "       -9.41707008e-03, -4.21576062e-03, -4.03608270e-02, -5.00293374e-02,\n",
       "        5.18210325e-03,  1.53465208e-03, -3.13613936e-02,  4.45855089e-33,\n",
       "        7.05626160e-02, -3.82768475e-02,  5.00391126e-02,  1.24038365e-02,\n",
       "       -1.54031767e-02, -4.16423827e-02,  2.07275338e-02, -8.72038826e-02,\n",
       "        6.72315806e-02, -2.39870045e-02, -5.29506765e-02,  1.81571450e-02,\n",
       "        3.81965078e-02,  1.22063071e-01,  3.00109084e-03, -3.23769189e-02,\n",
       "       -6.58629313e-02,  7.23681822e-02, -4.97033484e-02,  1.00123458e-01,\n",
       "       -4.19447981e-02,  5.24052838e-03,  1.59593243e-02, -9.39966738e-03,\n",
       "       -5.97725203e-03,  2.79488489e-02,  2.69740587e-03, -4.66504805e-02,\n",
       "        2.17496697e-02,  6.88357372e-03, -3.56855965e-03,  6.54859692e-02,\n",
       "       -1.89460739e-02, -3.98770943e-02,  1.82403135e-03,  3.94454896e-02,\n",
       "       -8.79021920e-03,  8.79290048e-03, -8.73595178e-02, -4.51568216e-02,\n",
       "       -6.23033494e-02,  2.71834265e-02,  8.41115788e-02,  6.63454160e-02,\n",
       "        8.43282938e-02, -4.14328761e-02,  3.82151618e-03, -8.85853020e-04,\n",
       "       -3.26247700e-02,  8.33767001e-03, -2.67041139e-02,  8.41678455e-02,\n",
       "       -4.25847955e-02, -6.34718314e-02,  3.71349463e-03, -5.27669266e-02,\n",
       "       -7.04811141e-02, -3.72167816e-03,  2.11139955e-02, -1.99389253e-02,\n",
       "        4.76712622e-02, -3.05579882e-02,  8.15319940e-02, -7.67674148e-02,\n",
       "        1.66059043e-02,  8.97502974e-02, -1.12814205e-02, -6.01417534e-02,\n",
       "        2.02507228e-02,  8.37027505e-02,  3.71146128e-02,  5.40403463e-02,\n",
       "       -2.16064956e-02,  3.87594812e-02, -2.43162066e-02,  1.70513298e-02,\n",
       "       -2.15578414e-02,  9.84521303e-03,  8.30673277e-02,  1.96213108e-02,\n",
       "       -1.74338501e-02, -4.40143496e-02,  2.43461337e-02,  1.44547196e-02,\n",
       "        8.57211873e-02,  1.49238221e-02,  2.56076381e-02,  4.42071594e-02,\n",
       "       -2.24996032e-03, -1.39350146e-01, -2.45772433e-02,  4.02442105e-02,\n",
       "        2.92537757e-03,  3.22252810e-02,  8.27856809e-02, -6.19394569e-33,\n",
       "       -3.66582796e-02, -3.60287935e-03, -5.69168013e-03, -4.80718724e-02,\n",
       "       -1.46823581e-02, -6.44085705e-02,  3.34911942e-02, -1.30951097e-02,\n",
       "        9.83089954e-02, -4.25486341e-02, -3.37414816e-02, -2.27691662e-02,\n",
       "        7.26434961e-02,  7.05802366e-02, -9.99408737e-02, -2.26398837e-02,\n",
       "       -3.48348059e-02, -1.03138059e-01, -5.32539785e-02,  4.53528687e-02,\n",
       "       -1.12902131e-02,  7.60169292e-04, -3.32050882e-02,  5.26724458e-02,\n",
       "        2.06465553e-02,  1.71730258e-02, -4.02070545e-02,  2.32512578e-02,\n",
       "        9.40849185e-02, -1.41361684e-01, -2.54200939e-02,  3.05799041e-02,\n",
       "       -5.03353290e-02,  5.74297197e-02, -4.47105952e-02,  5.24025317e-03,\n",
       "        1.76494867e-02, -1.21437497e-02, -2.18826979e-02, -7.88026899e-02,\n",
       "        1.31998256e-01, -7.26779848e-02,  1.65518597e-02,  5.23364134e-02,\n",
       "        2.92652063e-02,  4.34946530e-02,  4.92822900e-02,  2.58085337e-02,\n",
       "       -8.29383284e-02, -6.57495251e-03, -1.66799854e-02, -3.18913087e-02,\n",
       "        1.10294465e-02,  1.31360024e-01, -8.22448451e-03, -3.59332412e-02,\n",
       "        1.87691767e-02, -1.02143764e-01, -1.15793854e-01, -8.09531659e-03,\n",
       "       -1.08944578e-02,  5.31010181e-02, -2.25733630e-02,  5.15004285e-02,\n",
       "       -1.61313042e-02, -7.02151656e-02,  3.58265899e-02, -1.12346157e-01,\n",
       "        1.74996778e-02, -8.19430798e-02, -2.44881790e-02, -7.89903179e-02,\n",
       "       -4.91767637e-02, -1.10988729e-01,  3.20481993e-02,  6.16372097e-03,\n",
       "        2.77137384e-02,  5.23369126e-02, -4.15415168e-02,  4.27874215e-02,\n",
       "        9.57145449e-03, -6.44378737e-02, -6.63021207e-02,  3.27324010e-02,\n",
       "       -4.43197675e-02,  3.55296023e-02, -1.73501223e-02, -7.69361407e-02,\n",
       "       -3.44946943e-02,  1.04348101e-01, -1.44309103e-01,  7.76462406e-02,\n",
       "       -1.03851929e-01,  1.00259691e-04, -8.46536309e-02, -4.82989861e-08,\n",
       "        6.56000227e-02,  9.77826342e-02, -2.59312298e-02, -3.76056023e-02,\n",
       "        4.32578437e-02, -4.25491333e-02, -9.04058963e-02,  9.43255611e-03,\n",
       "        3.64888553e-03,  1.94011480e-02,  1.55142145e-02,  1.50931373e-01,\n",
       "        3.69089954e-02, -5.79544231e-02,  1.38939070e-02,  2.11469717e-02,\n",
       "        1.34786339e-02,  5.49675152e-02, -6.92085735e-03,  1.47158001e-02,\n",
       "       -6.83918446e-02,  5.03087528e-02, -7.29045458e-03, -2.48285872e-03,\n",
       "       -1.65298898e-02,  1.29618526e-01, -4.78451997e-02, -2.88330913e-02,\n",
       "        5.97898141e-02,  5.46902558e-03, -1.42095378e-03,  1.37667323e-03,\n",
       "        2.79145334e-02, -2.49764267e-02, -2.28186958e-02, -1.03493249e-02,\n",
       "       -9.57090408e-03, -1.11974226e-02,  7.49549419e-02, -5.84025159e-02,\n",
       "        8.01694095e-02,  3.89268622e-02, -1.91173684e-02,  1.44243045e-02,\n",
       "        1.22184085e-03, -1.26780838e-01, -4.25465778e-02, -4.69727442e-02,\n",
       "        3.97013174e-03, -4.31556776e-02, -5.66337369e-02, -4.99479994e-02,\n",
       "        8.98908973e-02, -3.82305980e-02,  6.11491613e-02, -1.33623823e-03,\n",
       "       -2.76628286e-02, -6.02274202e-02,  1.41925039e-02,  7.80741274e-02,\n",
       "        1.06778333e-03, -7.39808679e-02, -5.84004298e-02,  9.58032310e-02])"
      ]
     },
     "execution_count": 12,
     "metadata": {},
     "output_type": "execute_result"
    }
   ],
   "source": [
    "import numpy as np  \n",
    "np.array(huggingface_embeddings.embed_query(final_documents[0].page_content))"
   ]
  },
  {
   "cell_type": "code",
   "execution_count": 13,
   "metadata": {},
   "outputs": [],
   "source": [
    "vector_store = FAISS.from_documents(final_documents[:120], huggingface_embeddings)"
   ]
  },
  {
   "cell_type": "code",
   "execution_count": 14,
   "metadata": {},
   "outputs": [
    {
     "name": "stdout",
     "output_type": "stream",
     "text": [
      "private health insurance as a plan provided through an employer \n",
      "or a union, coverage purchased directly by an individual from an \n",
      "insurance company or through an exchange (such as healthcare.\n",
      "gov), or coverage through TRICARE. Public insurance coverage \n",
      "includes federal programs (such as Medicare, Medicaid, and the \n",
      "Children’s Health Insurance Program or CHIP), individual state \n",
      "health plans, and CHAMPVA (Civilian Health and Medical Program \n",
      "at the Department of Veterans Affairs), as well as care provided \n",
      "by the Department of Veterans Affairs. In the ACS, people are \n",
      "considered insured if they were covered by any of these types \n",
      "of health insurance at time of interview. People are considered \n",
      "uninsured if they were not covered by any of these types of health \n",
      "insurance at time of interview or if they only had coverage through \n",
      "the Indian Health Service (IHS), as IHS coverage is not considered \n",
      "comprehensive.\n"
     ]
    }
   ],
   "source": [
    "## Query using similarity search\n",
    "\n",
    "query = \"What is Health Insurance Covergage?\"\n",
    "relevant_documents = vector_store.similarity_search(query)\n",
    "\n",
    "print(relevant_documents[0].page_content)"
   ]
  },
  {
   "cell_type": "code",
   "execution_count": 15,
   "metadata": {},
   "outputs": [
    {
     "name": "stdout",
     "output_type": "stream",
     "text": [
      "tags=['FAISS', 'HuggingFaceBgeEmbeddings'] vectorstore=<langchain_community.vectorstores.faiss.FAISS object at 0x0000027F4234ACC0> search_kwargs={'k': 3}\n"
     ]
    }
   ],
   "source": [
    "retriever = vector_store.as_retriever(search_type=\"similarity\", search_kwargs={'k':3})\n",
    "print(retriever)"
   ]
  },
  {
   "cell_type": "code",
   "execution_count": 16,
   "metadata": {},
   "outputs": [],
   "source": [
    "import os\n",
    "from dotenv import load_dotenv\n",
    "load_dotenv()\n",
    "\n",
    "os.environ['HUGGINGFACE_API_KEY']=os.getenv(\"HUGGINGFACE_API_KEY\")"
   ]
  },
  {
   "cell_type": "code",
   "execution_count": null,
   "metadata": {},
   "outputs": [],
   "source": [
    "from langchain_community.llms import HuggingFaceHub\n",
    "\n",
    "hf = HuggingFaceHub(\n",
    "    repo_id=\"mistralai/Mistral-7B-v0.1\",\n",
    "    model_kwargs={\"temperature\":0.1,\"max_length\":500}\n",
    ")"
   ]
  }
 ],
 "metadata": {
  "kernelspec": {
   "display_name": "Lang",
   "language": "python",
   "name": "python3"
  },
  "language_info": {
   "codemirror_mode": {
    "name": "ipython",
    "version": 3
   },
   "file_extension": ".py",
   "mimetype": "text/x-python",
   "name": "python",
   "nbconvert_exporter": "python",
   "pygments_lexer": "ipython3",
   "version": "3.12.6"
  }
 },
 "nbformat": 4,
 "nbformat_minor": 2
}
